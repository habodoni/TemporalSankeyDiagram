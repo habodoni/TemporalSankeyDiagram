{
 "cells": [
  {
   "cell_type": "code",
   "execution_count": null,
   "metadata": {},
   "outputs": [
    {
     "name": "stdout",
     "output_type": "stream",
     "text": [
      "Requirement already satisfied: geopandas in /Users/hazemabo-donia/opt/anaconda3/lib/python3.9/site-packages (0.12.2)\n",
      "Requirement already satisfied: matplotlib in /Users/hazemabo-donia/opt/anaconda3/lib/python3.9/site-packages (3.5.2)\n",
      "Requirement already satisfied: pandas>=1.0.0 in /Users/hazemabo-donia/opt/anaconda3/lib/python3.9/site-packages (from geopandas) (1.4.4)\n",
      "Requirement already satisfied: pyproj>=2.6.1.post1 in /Users/hazemabo-donia/opt/anaconda3/lib/python3.9/site-packages (from geopandas) (3.5.0)\n",
      "Requirement already satisfied: packaging in /Users/hazemabo-donia/opt/anaconda3/lib/python3.9/site-packages (from geopandas) (21.3)\n",
      "Requirement already satisfied: fiona>=1.8 in /Users/hazemabo-donia/opt/anaconda3/lib/python3.9/site-packages (from geopandas) (1.9.2)\n",
      "Requirement already satisfied: shapely>=1.7 in /Users/hazemabo-donia/opt/anaconda3/lib/python3.9/site-packages (from geopandas) (2.0.1)\n",
      "Requirement already satisfied: cycler>=0.10 in /Users/hazemabo-donia/opt/anaconda3/lib/python3.9/site-packages (from matplotlib) (0.11.0)\n",
      "Requirement already satisfied: numpy>=1.17 in /Users/hazemabo-donia/opt/anaconda3/lib/python3.9/site-packages (from matplotlib) (1.21.5)\n",
      "Requirement already satisfied: fonttools>=4.22.0 in /Users/hazemabo-donia/opt/anaconda3/lib/python3.9/site-packages (from matplotlib) (4.25.0)\n",
      "Requirement already satisfied: python-dateutil>=2.7 in /Users/hazemabo-donia/opt/anaconda3/lib/python3.9/site-packages (from matplotlib) (2.8.2)\n",
      "Requirement already satisfied: pillow>=6.2.0 in /Users/hazemabo-donia/opt/anaconda3/lib/python3.9/site-packages (from matplotlib) (9.2.0)\n",
      "Requirement already satisfied: kiwisolver>=1.0.1 in /Users/hazemabo-donia/opt/anaconda3/lib/python3.9/site-packages (from matplotlib) (1.4.2)\n",
      "Requirement already satisfied: pyparsing>=2.2.1 in /Users/hazemabo-donia/opt/anaconda3/lib/python3.9/site-packages (from matplotlib) (3.0.9)\n",
      "Requirement already satisfied: certifi in /Users/hazemabo-donia/opt/anaconda3/lib/python3.9/site-packages (from fiona>=1.8->geopandas) (2022.9.24)\n",
      "Requirement already satisfied: click-plugins>=1.0 in /Users/hazemabo-donia/opt/anaconda3/lib/python3.9/site-packages (from fiona>=1.8->geopandas) (1.1.1)\n",
      "Requirement already satisfied: attrs>=19.2.0 in /Users/hazemabo-donia/opt/anaconda3/lib/python3.9/site-packages (from fiona>=1.8->geopandas) (21.4.0)\n",
      "Requirement already satisfied: cligj>=0.5 in /Users/hazemabo-donia/opt/anaconda3/lib/python3.9/site-packages (from fiona>=1.8->geopandas) (0.7.2)\n",
      "Requirement already satisfied: munch>=2.3.2 in /Users/hazemabo-donia/opt/anaconda3/lib/python3.9/site-packages (from fiona>=1.8->geopandas) (2.5.0)\n",
      "Requirement already satisfied: importlib-metadata in /Users/hazemabo-donia/opt/anaconda3/lib/python3.9/site-packages (from fiona>=1.8->geopandas) (4.11.3)\n",
      "Requirement already satisfied: click~=8.0 in /Users/hazemabo-donia/opt/anaconda3/lib/python3.9/site-packages (from fiona>=1.8->geopandas) (8.0.4)\n",
      "Requirement already satisfied: pytz>=2020.1 in /Users/hazemabo-donia/opt/anaconda3/lib/python3.9/site-packages (from pandas>=1.0.0->geopandas) (2022.1)\n",
      "Requirement already satisfied: six>=1.5 in /Users/hazemabo-donia/opt/anaconda3/lib/python3.9/site-packages (from python-dateutil>=2.7->matplotlib) (1.16.0)\n",
      "Requirement already satisfied: zipp>=0.5 in /Users/hazemabo-donia/opt/anaconda3/lib/python3.9/site-packages (from importlib-metadata->fiona>=1.8->geopandas) (3.8.0)\n",
      "Note: you may need to restart the kernel to use updated packages.\n"
     ]
    }
   ],
   "source": [
    "pip install geopandas matplotlib"
   ]
  },
  {
   "cell_type": "code",
   "execution_count": null,
   "metadata": {},
   "outputs": [
    {
     "data": {
      "application/vnd.jupyter.widget-view+json": {
       "model_id": "d2c9438337bb4b27861e9b3101d23aea",
       "version_major": 2,
       "version_minor": 0
      },
      "text/plain": [
       "VBox(children=(HBox(children=(interactive(children=(IntSlider(value=2020, description='Year:', layout=Layout(h…"
      ]
     },
     "metadata": {},
     "output_type": "display_data"
    }
   ],
   "source": [
    "import geopandas as gpd\n",
    "import matplotlib.pyplot as plt\n",
    "import pandas as pd\n",
    "import matplotlib.colors as mcolors\n",
    "import matplotlib.cm as cm\n",
    "from ipywidgets import interactive, IntSlider, Layout, HBox, VBox\n",
    "\n",
    "us_states = gpd.read_file('https://raw.githubusercontent.com/PublicaMundi/MappingAPI/master/data/geojson/us-states.json')\n",
    "\n",
    "us_states['geometry'] = us_states['geometry'].buffer(0)\n",
    "\n",
    "us_states = us_states.to_crs('EPSG:3395')\n",
    "\n",
    "us_states['centroid'] = us_states['geometry'].centroid\n",
    "\n",
    "connections = pd.read_csv('/Users/hazemabo-donia/Desktop/Flow/SummerWork/test2.csv')\n",
    "\n",
    "connection_dict = {(row['state1'], row['state2'], row['Year']): row['magnitude'] for _, row in connections.iterrows()}\n",
    "\n",
    "years = connections['Year'].unique()\n",
    "\n",
    "year_slider = IntSlider(min=min(years), max=max(years), step=1, value=min(years), \n",
    "                        description='Year:', \n",
    "                        layout=Layout(width='auto', height='auto'))\n",
    "\n",
    "def update_plot(year):\n",
    "    plt.clf()\n",
    "\n",
    "    fig, ax = plt.subplots(1, 1)\n",
    "\n",
    "    us_states.boundary.plot(ax=ax, linewidth=1, color='black')\n",
    "\n",
    "    for x, y in zip(us_states['centroid'].x, us_states['centroid'].y):\n",
    "        plt.plot(x, y, 'bo', markersize=3)\n",
    "\n",
    "    magnitudes = [v for (s1, s2, yr), v in connection_dict.items() if yr == year]\n",
    "    if magnitudes:\n",
    "        min_magnitude, max_magnitude = min(magnitudes), max(magnitudes)\n",
    "        norm = mcolors.Normalize(min_magnitude, max_magnitude)\n",
    "        cmap = cm.get_cmap('viridis')\n",
    "\n",
    "        for idx, state in us_states.iterrows():\n",
    "            neighbors = us_states[us_states.geometry.touches(state['geometry'])].index.tolist()\n",
    "            for neighbor in neighbors:\n",
    "                state_name = state['name']\n",
    "                neighbor_name = us_states.loc[neighbor, 'name']\n",
    "                pair = ((state_name, neighbor_name, year) if (state_name, neighbor_name, year) in connection_dict else\n",
    "                        (neighbor_name, state_name, year))\n",
    "\n",
    "                if pair in connection_dict:\n",
    "                    x1, y1 = us_states.loc[idx, 'centroid'].x, us_states.loc[idx, 'centroid'].y\n",
    "                    x2, y2 = us_states.loc[neighbor, 'centroid'].x, us_states.loc[neighbor, 'centroid'].y\n",
    "                    ax.plot([x1, x2], [y1, y2], 'k-', color=cmap(norm(connection_dict[pair])), linewidth=.75)\n",
    "\n",
    "        ax.set_xlim([-14500000, -7000000])\n",
    "        ax.set_ylim([2500000, 7000000])\n",
    "\n",
    "        sm = plt.cm.ScalarMappable(cmap=cmap, norm=norm)\n",
    "        sm.set_array([])\n",
    "        fig.colorbar(sm, ax=ax, orientation='vertical', label='Energy Transfer')\n",
    "\n",
    "        plt.show()\n",
    "\n",
    "interactive_plot = interactive(update_plot, year=year_slider)\n",
    "\n",
    "VBox([HBox([interactive_plot])])"
   ]
  }
 ],
 "metadata": {
  "kernelspec": {
   "display_name": "Python 3.9.13 ('base')",
   "language": "python",
   "name": "python3"
  },
  "language_info": {
   "codemirror_mode": {
    "name": "ipython",
    "version": 3
   },
   "file_extension": ".py",
   "mimetype": "text/x-python",
   "name": "python",
   "nbconvert_exporter": "python",
   "pygments_lexer": "ipython3",
   "version": "3.9.13"
  },
  "orig_nbformat": 4,
  "vscode": {
   "interpreter": {
    "hash": "7737cf5dbe117ec285098a3669fbe3f19cf160f1fc3358d94d2fcc8a940aa4d0"
   }
  }
 },
 "nbformat": 4,
 "nbformat_minor": 2
}
